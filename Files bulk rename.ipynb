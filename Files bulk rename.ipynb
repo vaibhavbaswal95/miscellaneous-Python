{
 "cells": [
  {
   "cell_type": "markdown",
   "metadata": {},
   "source": [
    "# rename files in bulk"
   ]
  },
  {
   "cell_type": "code",
   "execution_count": null,
   "metadata": {},
   "outputs": [],
   "source": [
    "# special case of subtitles"
   ]
  },
  {
   "cell_type": "code",
   "execution_count": 88,
   "metadata": {},
   "outputs": [],
   "source": [
    "import os\n",
    "import re\n",
    "#path of your files\n",
    "path = r'D:\\Tv Series\\Friends\\Friends Season 2 COMPLETE.720p.BRrip.sujaidr (pimprg)'\n",
    "files = os.listdir(path)\n"
   ]
  },
  {
   "cell_type": "code",
   "execution_count": 93,
   "metadata": {},
   "outputs": [],
   "source": [
    "list(files)\n",
    "file_name_to_format = 'friends_s02e01_720p_bluray_sujaidr'\n",
    "files_to_rename = []\n",
    "for file in files:\n",
    "    if(file[-3:]=='srt'):\n",
    "        #print(file)\n",
    "        #print(file_name_to_format[0:8]+file[8:14]+file_name_to_format[14:]+'.srt')\n",
    "        \n",
    "        #print(str(path+'/'+file))\n",
    "        #print(str(path+'/'+file_name_to_format[0:8]+file[8:14]+file_name_to_format[14:]+'.srt'))\n",
    "        os.rename(str(path+'/'+file),str(path+'/'+file_name_to_format[0:8]+file[8:14]+file_name_to_format[14:]+'.srt'))"
   ]
  },
  {
   "cell_type": "code",
   "execution_count": null,
   "metadata": {},
   "outputs": [],
   "source": []
  },
  {
   "cell_type": "code",
   "execution_count": null,
   "metadata": {},
   "outputs": [],
   "source": []
  }
 ],
 "metadata": {
  "kernelspec": {
   "display_name": "Python 3",
   "language": "python",
   "name": "python3"
  },
  "language_info": {
   "codemirror_mode": {
    "name": "ipython",
    "version": 3
   },
   "file_extension": ".py",
   "mimetype": "text/x-python",
   "name": "python",
   "nbconvert_exporter": "python",
   "pygments_lexer": "ipython3",
   "version": "3.6.4"
  }
 },
 "nbformat": 4,
 "nbformat_minor": 2
}
